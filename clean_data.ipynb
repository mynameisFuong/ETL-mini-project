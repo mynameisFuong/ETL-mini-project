{
 "cells": [
  {
   "cell_type": "code",
   "execution_count": 6,
   "id": "29af1012",
   "metadata": {},
   "outputs": [],
   "source": [
    "import pandas as pd"
   ]
  },
  {
   "cell_type": "code",
   "execution_count": 7,
   "id": "46c2d050",
   "metadata": {},
   "outputs": [],
   "source": [
    "file_path = []\n",
    "file_path.append(r'C:\\Users\\ADMIN\\Desktop\\TASK_CLEAN_DATA\\transactions\\transactions_pp02.csv')\n",
    "file_path.append(r'C:\\Users\\ADMIN\\Desktop\\TASK_CLEAN_DATA\\transactions\\transactions_pp04.csv')\n",
    "file_path.append(r'C:\\Users\\ADMIN\\Desktop\\TASK_CLEAN_DATA\\transactions\\transactions_pp05.csv')\n",
    "file_path.append(r'C:\\Users\\ADMIN\\Desktop\\TASK_CLEAN_DATA\\transactions\\transactions_pp06.csv')"
   ]
  },
  {
   "cell_type": "code",
   "execution_count": 24,
   "id": "fe05f9f3",
   "metadata": {},
   "outputs": [
    {
     "name": "stdout",
     "output_type": "stream",
     "text": [
      "<class 'pandas.core.frame.DataFrame'>\n",
      "RangeIndex: 3293 entries, 0 to 3292\n",
      "Data columns (total 19 columns):\n",
      " #   Column                       Non-Null Count  Dtype \n",
      "---  ------                       --------------  ----- \n",
      " 0   transaction_id               3293 non-null   object\n",
      " 1   transaction_event_code       3293 non-null   object\n",
      " 2   transaction_initiation_date  3293 non-null   object\n",
      " 3   transaction_updated_date     3293 non-null   object\n",
      " 4   transaction_amount           3293 non-null   object\n",
      " 5   transaction_status           3293 non-null   object\n",
      " 6   transaction_subject          88 non-null     object\n",
      " 7   ending_balance               3293 non-null   object\n",
      " 8   available_balance            3293 non-null   object\n",
      " 9   protection_eligibility       3293 non-null   int64 \n",
      " 10  payer_info                   3293 non-null   object\n",
      " 11  shipping_info                3293 non-null   object\n",
      " 12  cart_info                    3293 non-null   object\n",
      " 13  store_info                   3293 non-null   object\n",
      " 14  auction_info                 3293 non-null   object\n",
      " 15  incentive_info               3293 non-null   object\n",
      " 16  elton_created_at             3293 non-null   object\n",
      " 17  dt                           3293 non-null   object\n",
      " 18  hour                         3293 non-null   int64 \n",
      "dtypes: int64(2), object(17)\n",
      "memory usage: 488.9+ KB\n"
     ]
    }
   ],
   "source": [
    "# print(file_path[0])\n",
    "df_pp02 = pd.read_csv(file_path[0])\n",
    "df_pp02.info()"
   ]
  },
  {
   "cell_type": "code",
   "execution_count": null,
   "id": "954ee8f5",
   "metadata": {},
   "outputs": [
    {
     "name": "stdout",
     "output_type": "stream",
     "text": [
      "78W97559FU6028206\n",
      "{'transaction_id': '78W97559FU6028206'}\n"
     ]
    }
   ],
   "source": [
    "transactions = {}\n",
    "for col in df_pp02:\n",
    "    for i in range(19)\n",
    "    print(df_pp02[col].iloc[i])\n",
    "    transactions[col] = df_pp02[col].iloc[0]\n",
    "    break\n",
    "\n",
    "print(transactions)\n"
   ]
  },
  {
   "cell_type": "code",
   "execution_count": 26,
   "id": "3699e20c",
   "metadata": {},
   "outputs": [
    {
     "name": "stdout",
     "output_type": "stream",
     "text": [
      "Connection succesful\n"
     ]
    }
   ],
   "source": [
    "import yaml\n",
    "import pyodbc\n",
    "import urllib.parse\n",
    "from sqlalchemy import create_engine\n",
    "\n",
    "server = \"DESKTOP-2PSQA2P\\\\MSSQL_SERVER\"\n",
    "database = \"TASK\"\n",
    "username = \"DESKTOP-2PSQA2P\\\\ADMIN\"\n",
    "\n",
    "connection_string = f\"\"\"\n",
    "    DRIVER={{ODBC Driver 17 for SQL Server}};\n",
    "    SERVER={server};\n",
    "    DATABASE={database};\n",
    "    Trusted_Connection=yes;\n",
    "\"\"\"\n",
    "conn = pyodbc.connect(connection_string)\n",
    "print(\"Connection succesful\")\n",
    "\n",
    "params = urllib.parse.quote_plus(connection_string)\n",
    "engine = create_engine(f\"mssql+pyodbc:///?odbc_connect={params}\")\n"
   ]
  },
  {
   "cell_type": "code",
   "execution_count": 27,
   "id": "8cb22418",
   "metadata": {},
   "outputs": [
    {
     "data": {
      "text/plain": [
       "103"
      ]
     },
     "execution_count": 27,
     "metadata": {},
     "output_type": "execute_result"
    }
   ],
   "source": [
    "table_name = 'transactions_pp02'\n",
    "df_pp02.to_sql(table_name, con=engine, if_exists='replace', index=False)"
   ]
  }
 ],
 "metadata": {
  "kernelspec": {
   "display_name": "Python 3",
   "language": "python",
   "name": "python3"
  },
  "language_info": {
   "codemirror_mode": {
    "name": "ipython",
    "version": 3
   },
   "file_extension": ".py",
   "mimetype": "text/x-python",
   "name": "python",
   "nbconvert_exporter": "python",
   "pygments_lexer": "ipython3",
   "version": "3.13.7"
  }
 },
 "nbformat": 4,
 "nbformat_minor": 5
}
